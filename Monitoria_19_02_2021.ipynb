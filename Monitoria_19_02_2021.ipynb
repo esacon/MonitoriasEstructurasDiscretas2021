{
  "nbformat": 4,
  "nbformat_minor": 0,
  "metadata": {
    "colab": {
      "name": "Monitoria 19-02-2021.ipynb",
      "provenance": []
    },
    "kernelspec": {
      "name": "python3",
      "display_name": "Python 3"
    }
  },
  "cells": [
    {
      "cell_type": "markdown",
      "metadata": {
        "id": "X-HBwVcG1ee7"
      },
      "source": [
        "**<h1> Relaciones de recurrencia </h1>**\r\n",
        "\r\n",
        "Una relación de recurrencia es una función escrita en términos de sus predecesores, es decir:\r\n",
        "\r\n",
        "\\begin{equation}\r\n",
        "  f_n=f(n)=\\sum_{j=1}^{k}{c_jf_{n-j}}\r\n",
        "\\end{equation}\r\n",
        "\r\n",
        "Donde $j$ hace referencia a los predecesores. El grado de la función estará dado por el predecesor más lejano o distante. Así mismo, la relación de recurrencia tendrá tantos casos bases como indice el grado de la RR. Es decir, si una RR es de grado dos, esta deberá tener 2 casos base.\r\n",
        "\r\n",
        "Nota: Los casos bases no pueden ser generador por la RR. El coeficiente $c_k \\neq 0$.\r\n",
        "\r\n",
        "**Ejemplo 1**\r\n",
        "La sucesión de números de Jacobsthal está definida de la siguiente forma:\r\n",
        "\r\n",
        "\\begin{equation}\r\n",
        "  \\langle 2, 1, 5, 7, 17, 31, 65, 127, 257, ...\\rangle\r\n",
        "\\end{equation}\r\n",
        "\r\n",
        "\\begin{equation}\r\n",
        "  \\underbrace{f_n=2f_{n-2} + f_{n-1}}_{RR};\\quad \\underbrace{f_0=2, f_1=1}_{\\text{casos bases}};\\quad \\underbrace{n\\geq2}_{\\text{dominio}}\r\n",
        "\\end{equation}\r\n",
        "\r\n",
        "Probemos que se cumpla"
      ]
    },
    {
      "cell_type": "code",
      "metadata": {
        "colab": {
          "base_uri": "https://localhost:8080/"
        },
        "id": "FA132HkN1cD5",
        "outputId": "c3a25167-5c35-4d89-9a28-5fb224f2b5e6"
      },
      "source": [
        "def recurrencia(n):\r\n",
        "  if n == 0: return 2\r\n",
        "  elif n == 1: return 1\r\n",
        "  return 2*recurrencia(n-2) + recurrencia(n-1)\r\n",
        "\r\n",
        "for i in range(0, 9):\r\n",
        "  print(\"n={i}. Resultado recurrente: {rr}\".format(i=i, rr=recurrencia(i)))"
      ],
      "execution_count": 4,
      "outputs": [
        {
          "output_type": "stream",
          "text": [
            "n=0. Resultado recurrente: 2\n",
            "n=1. Resultado recurrente: 1\n",
            "n=2. Resultado recurrente: 5\n",
            "n=3. Resultado recurrente: 7\n",
            "n=4. Resultado recurrente: 17\n",
            "n=5. Resultado recurrente: 31\n",
            "n=6. Resultado recurrente: 65\n",
            "n=7. Resultado recurrente: 127\n",
            "n=8. Resultado recurrente: 257\n"
          ],
          "name": "stdout"
        }
      ]
    },
    {
      "cell_type": "markdown",
      "metadata": {
        "id": "FS7o4SGa45D6"
      },
      "source": [
        "Ahora bien, las relaciones de recurrencia pueden ser de los siguientes tipos:\r\n",
        "\r\n",
        "1. **Lineal:** El exponente de las funciones predecesoras es de grado 1. Es decir $f_{n-j}^k$ donde $k = 1$\r\n",
        "2. **Homogénea:** Todos los términos de la función deben tener un predecesor.\r\n",
        "3. **Constante:** Ningún coeficiente puede depender de $n$.\r\n",
        "\r\n",
        "El ejemplo mostrado anteriormente cumple todos estos requisitos.\r\n",
        "\r\n",
        "Las RR son expresiones **no** cerradas. Es decir, que \r\n",
        "$f_n = f_{n-1} + f_{n-2}, ...$ Una expresión cerrada puede ser: $2^n,\\quad 3n^3+2n+1, \\quad \\ldots$\r\n",
        "\r\n",
        "Lo que se busca con una relación de recurrencia es hallar su expresión **cerrada.**\r\n",
        "\r\n",
        "\r\n",
        "Procedamos a resolver una RR. Solo si la función es **lineal, homógenea y constante** se puede usar el método de los coeficientes. De lo contrario, debe resolverse por el método de iteraciones o por funciones generadoras.\r\n",
        "\r\n",
        "\r\n",
        "---\r\n",
        "\r\n",
        "\r\n",
        "**Ejemplo 2:**\r\n",
        "\r\n",
        "Dada la siguiente RR, halle su expresión no recurrente (cerrada):\r\n",
        "$f_n=f_{n-1} + 4; \\quad f_0=3;\\quad n> 1$\r\n",
        "\r\n",
        "Dado que la RR no es homogénea, se resolverá por el método de iteraciones.\r\n",
        "\r\n",
        "Para k = 1 (Primera iteración):\r\n",
        "\r\n",
        "\\begin{equation}\r\n",
        "  f_n=f_{n-1} + 4; \\quad f_0=3;\\quad n> 1\r\n",
        "\\end{equation}\r\n",
        "\r\n",
        "Para k = 2 (Segunda iteración):\r\n",
        "\r\n",
        "\\begin{equation}\r\n",
        "  f_n=\\underbrace{(f_{(n-1)-1} + 4)}_{f_{n-1}} + 4\r\n",
        "\\end{equation}\r\n",
        "\r\n",
        "\\begin{equation}\r\n",
        "  f_n=(f_{n-2} + 4) + 4\r\n",
        "\\end{equation}\r\n",
        "\r\n",
        "Para k = 3 (Tercera iteración):\r\n",
        "\r\n",
        "\\begin{equation}\r\n",
        "  f_n=\\underbrace{(f_{(n-1)-2} + 4)+ 4}_{f_{n-2}} + 4\r\n",
        "\\end{equation}\r\n",
        "\\begin{equation}\r\n",
        "  f_n=(f_{n-3} + 4)+ 4 + 4\r\n",
        "\\end{equation}\r\n",
        "\r\n",
        "Repites el proceso hasta encontrar un patrón. En este caso es el siguiente:\r\n",
        "\r\n",
        "\\begin{equation}\r\n",
        "  f_n=f_{n-k} + 4k\r\n",
        "\\end{equation}\r\n",
        "\r\n",
        "Se igualan los casos. Por lo tanto $f_{n-k}=f_0=3$ Lo cual implica que $n-k=0$. Entonces $n=k$. Remplazando $k$\r\n",
        "\r\n",
        "\\begin{equation}\r\n",
        "  f_n=f_{n-n} + 4n\r\n",
        "\\end{equation}\r\n",
        "\\begin{equation}\r\n",
        "  f_n=f_{0} + 4n\r\n",
        "\\end{equation}\r\n",
        "Finalmente,\r\n",
        "\\begin{equation}\r\n",
        "  \\boxed{f_n=3 + 4n}\r\n",
        "\\end{equation}\r\n",
        "\r\n",
        "Ahora se comprueba que la versión no recurrente, sea igual a la recurrente."
      ]
    },
    {
      "cell_type": "code",
      "metadata": {
        "colab": {
          "base_uri": "https://localhost:8080/"
        },
        "id": "vFhtmIoc_4Wt",
        "outputId": "e5051eca-30ff-49ff-8320-d4a7c3ad16a7"
      },
      "source": [
        "def recurrencia(n):\r\n",
        "  if n == 0: return 3\r\n",
        "  return recurrencia(n-1) + 4\r\n",
        "\r\n",
        "def no_recurrente(n):\r\n",
        "  return 3 + 4*n\r\n",
        "\r\n",
        "for i in range(0, 9):\r\n",
        "  print(\"n={i}. Resultado recurrente: {rr}\\tResultado no recurrente: {nrr}\".format(i=i, rr=recurrencia(i), nrr=no_recurrente(i)))"
      ],
      "execution_count": 5,
      "outputs": [
        {
          "output_type": "stream",
          "text": [
            "n=0. Resultado recurrente: 3\tResultado no recurrente: 3\n",
            "n=1. Resultado recurrente: 7\tResultado no recurrente: 7\n",
            "n=2. Resultado recurrente: 11\tResultado no recurrente: 11\n",
            "n=3. Resultado recurrente: 15\tResultado no recurrente: 15\n",
            "n=4. Resultado recurrente: 19\tResultado no recurrente: 19\n",
            "n=5. Resultado recurrente: 23\tResultado no recurrente: 23\n",
            "n=6. Resultado recurrente: 27\tResultado no recurrente: 27\n",
            "n=7. Resultado recurrente: 31\tResultado no recurrente: 31\n",
            "n=8. Resultado recurrente: 35\tResultado no recurrente: 35\n"
          ],
          "name": "stdout"
        }
      ]
    },
    {
      "cell_type": "markdown",
      "metadata": {
        "id": "3wWV5_qSAO9B"
      },
      "source": [
        "\r\n",
        "\r\n",
        "---\r\n",
        "\r\n",
        "\r\n",
        "**Ejemplo 3:**\r\n",
        "\r\n",
        "Dada la relación de recurrencia:\r\n",
        "\r\n",
        "\\begin{equation}\r\n",
        "  f_n=f_{n-1}+3^{n-1};\\quad n\\geq1;\\quad f_1=2\r\n",
        "\\end{equation}\r\n",
        "\r\n",
        "Dado que la RR no es homogénea, se resolverá por el método de iteraciones.\r\n",
        "\r\n",
        "Para k = 1 (Primera iteración):\r\n",
        "\r\n",
        "\\begin{equation}\r\n",
        "  f_n=f_{n-1}+3^{n-1};\\quad n\\geq1;\\quad f_1=2\r\n",
        "\\end{equation}\r\n",
        "\r\n",
        "Para k = 2 (Segunda iteración):\r\n",
        "\r\n",
        "\\begin{equation}\r\n",
        "  f_n=\\underbrace{(f_{(n-1)-1}+3^{(n-1)-1})}_{f_{n-1}}+3^{n-1};\r\n",
        "\\end{equation}\r\n",
        "\r\n",
        "\\begin{equation}\r\n",
        "  f_n=f_{n-2}+3^{n-2}+3^{n-1}\r\n",
        "\\end{equation}\r\n",
        "\r\n",
        "Para k = 3 (Tercera iteración):\r\n",
        "\r\n",
        "\\begin{equation}\r\n",
        "   f_n=\\underbrace{(f_{(n-1)-2}+3^{(n-1)-2}+3^{(n-1)-1})}_{f_{n-2}}+3^{n-1}\r\n",
        "\\end{equation}\r\n",
        "\r\n",
        "\\begin{equation}\r\n",
        "  f_n=f_{n-3}+3^{n-3}+3^{n-2}+3^{n-1}\r\n",
        "\\end{equation}\r\n",
        "\r\n",
        "Se repite hasta encontrar un patrón. En este caso:\r\n",
        "\r\n",
        "\\begin{equation}\r\n",
        "  f_n=f_{n-k}+\\sum_{i=0}^{k-1}{3^{n-i-1}}\r\n",
        "\\end{equation}\r\n",
        "\r\n",
        "Reescribiendo\r\n",
        "\r\n",
        "\\begin{equation}\r\n",
        "  f_n=f_{n-k}+\\sum_{i=0}^{k-1}{3^{n}3^{-i}3^{-1}}\r\n",
        "\\end{equation}\r\n",
        "\r\n",
        "Como $3^{n}$ y $3^{-1}$, no depende de $i$, se pueden extraer de la sumatoria:\r\n",
        "\r\n",
        "\\begin{equation}\r\n",
        "  f_n=f_{n-k}+3^{n-1}\\sum_{i=0}^{k-1}{3^{-i}}\r\n",
        "\\end{equation}\r\n",
        "\r\n",
        "Se identifica que estamos ante una serie geométrica. Por lo cual \r\n",
        "\r\n",
        "\\begin{equation}\r\n",
        "  \\sum_{i=0}^{k-1}{r^{i}} = \\frac{1-r^k}{1-r}\r\n",
        "\\end{equation}\r\n",
        "Continuando el ejercicio, $3^{-i} = \\left(\\frac{1}{3}\\right)^{i}$ \r\n",
        "\\begin{equation}\r\n",
        "  f_n=f_{n-k}+3^{n-1}\\sum_{i=0}^{k-1}{\\left(\\frac{1}{3}\\right)^{i}}\r\n",
        "\\end{equation}\r\n",
        "Donde $r = \\frac{1}{3}$. Entonces,\r\n",
        "\r\n",
        "\\begin{equation}\r\n",
        "  f_n=f_{n-k}+3^{n-1} \\frac{1-\\left(\\frac{1}{3}\\right)^k}{1-\\left(\\frac{1}{3}\\right)}\r\n",
        "\\end{equation}\r\n",
        "\r\n",
        "\\begin{equation}\r\n",
        "  f_n=f_{n-k}+3^{n-1} \\frac{1-\\left(\\frac{1}{3}\\right)^k}{\\frac{2}{3}}\r\n",
        "\\end{equation}\r\n",
        "\r\n",
        "\\begin{equation}\r\n",
        "  f_n=f_{n-k}+3^{n-1} \\frac{1-\\left(\\frac{1}{3}\\right)^k}{2\\cdot{3^{-1}}}\r\n",
        "\\end{equation}\r\n",
        "\r\n",
        "\\begin{equation}\r\n",
        "  f_n=f_{n-k}+3^{n} \\frac{1-\\left(\\frac{1}{3}\\right)^k}{2}\r\n",
        "\\end{equation}\r\n",
        "\r\n",
        "Se igualan los casos bases, quedando $f_{n-k} = f_1=2$. Por tanto $n-k=1$, entonces $k=n-1$. Reemplazando k, se obtiene que \r\n",
        "\r\n",
        "\\begin{equation}\r\n",
        "  f_n=f_{n-(n-1)}+3^{n} \\frac{1-\\left(\\frac{1}{3}\\right)^{n-1}}{2}\r\n",
        "\\end{equation}\r\n",
        "\r\n",
        "\\begin{equation}\r\n",
        "  f_n=f_{1}+ \\frac{3^{n}-3^{n}\\left(\\frac{1}{3}\\right)^{n-1}}{2}\r\n",
        "\\end{equation}\r\n",
        "\r\n",
        "\\begin{equation}\r\n",
        "  f_n=2 + \\frac{3^{n}-3^{n}\\cdot(3^{-1})^{n-1}}{2}\r\n",
        "\\end{equation}\r\n",
        "\r\n",
        "Recordar que $(a^b)^c = a^{bc}$ y $a^b\\cdot a^c = a^{b+c}$\r\n",
        "\r\n",
        "\\begin{equation}\r\n",
        "  f_n=2 + \\frac{3^{n}-3^{n}\\cdot(3)^{1-n}}{2}\r\n",
        "\\end{equation}\r\n",
        "\r\n",
        "\\begin{equation}\r\n",
        "  f_n=2 + \\frac{3^{n}-3^{n+1-n}}{2}\r\n",
        "\\end{equation}\r\n",
        "\r\n",
        "\\begin{equation}\r\n",
        "  f_n=2 + \\frac{3^{n}-3}{2}\r\n",
        "\\end{equation}\r\n",
        "\r\n",
        "\\begin{equation}\r\n",
        "  f_n=\\frac{4}{2} + \\frac{3^{n}-3}{2}\r\n",
        "\\end{equation}\r\n",
        "\r\n",
        "Finalmente, la versión no recurrente de la RR es:\r\n",
        "\r\n",
        "\\begin{equation}\r\n",
        "  \\boxed{f_n=\\frac{3^{n}+1}{2}}\r\n",
        "\\end{equation}\r\n",
        "\r\n",
        "Se comprueba que se cumpla"
      ]
    },
    {
      "cell_type": "code",
      "metadata": {
        "colab": {
          "base_uri": "https://localhost:8080/"
        },
        "id": "3-zk6H-tGm2O",
        "outputId": "8d15bf00-6117-4c01-a37a-084f000cfeab"
      },
      "source": [
        "def recurrencia(n):\r\n",
        "  if n == 1: return 2\r\n",
        "  return recurrencia(n-1) + 3**(n-1)\r\n",
        "\r\n",
        "def no_recurrente(n):\r\n",
        "  return int((3**n + 1)/2)\r\n",
        "\r\n",
        "for i in range(1, 9):\r\n",
        "  print(\"n={i}. Resultado recurrente: {rr}\\t Resultado no recurrente: {nrr}\".format(i=i, rr=recurrencia(i), nrr=no_recurrente(i)))"
      ],
      "execution_count": 10,
      "outputs": [
        {
          "output_type": "stream",
          "text": [
            "n=1. Resultado recurrente: 2\t Resultado no recurrente: 2\n",
            "n=2. Resultado recurrente: 5\t Resultado no recurrente: 5\n",
            "n=3. Resultado recurrente: 14\t Resultado no recurrente: 14\n",
            "n=4. Resultado recurrente: 41\t Resultado no recurrente: 41\n",
            "n=5. Resultado recurrente: 122\t Resultado no recurrente: 122\n",
            "n=6. Resultado recurrente: 365\t Resultado no recurrente: 365\n",
            "n=7. Resultado recurrente: 1094\t Resultado no recurrente: 1094\n",
            "n=8. Resultado recurrente: 3281\t Resultado no recurrente: 3281\n"
          ],
          "name": "stdout"
        }
      ]
    },
    {
      "cell_type": "code",
      "metadata": {
        "id": "K1dHo9JcQn-A"
      },
      "source": [
        ""
      ],
      "execution_count": null,
      "outputs": []
    },
    {
      "cell_type": "markdown",
      "metadata": {
        "id": "l3n0ozSiIwBb"
      },
      "source": [
        "\r\n",
        "\r\n",
        "---\r\n",
        "\r\n",
        "\r\n",
        "**Ejercicios próximas sesiones**\r\n",
        "\r\n",
        "En las siguientes dos secciones estaremos trabajando 2 ejercicios por el método de coeficientes y 3 o 4 más con el método de iteraciones.\r\n",
        "\r\n",
        "\r\n",
        "1.   $f_n=f_{n-1}+f_{n-2};\\quad f_0 = 3, f_1=6;\\quad n\\geq2.$\r\n",
        "\r\n",
        "2.   $f_n = 2f_{n-2} + f_{n-1}; \\quad f_0=f_1=1; \\quad n \\geq 2.$\r\n",
        "\r\n",
        "3.   $f_n = 2f_{n-1}+ f_{n-2}-2f_{n-3};\\quad f_0=0,f_1=1,f_2=2;\\quad n \\geq 3.$\r\n",
        "\r\n",
        "4.   $f_n=\\sqrt{1+ f_{n-1}^2};\\quad f_0 = 0;\\quad n \\geq 1.$\r\n",
        "\r\n",
        "5.   $f_n = 2f_{n-1} + n;\\quad f_0 = 0;\\quad n \\geq1 .$\r\n",
        "\r\n",
        "6.   $f_n = 6f_{n-1} - 9f_{n-2};\\quad f_0=0, f_1=1; \\quad n \\geq 2.$\r\n",
        "\r\n",
        "7.   $f_n = \\frac{3}{2}f_{n-1} + 4;\\quad f_0=2; \\quad n \\geq 1.$\r\n",
        "\r\n"
      ]
    }
  ]
}